{
 "cells": [
  {
   "cell_type": "code",
   "execution_count": 1,
   "metadata": {},
   "outputs": [],
   "source": [
    "import os\n",
    "import pickle"
   ]
  },
  {
   "cell_type": "code",
   "execution_count": 2,
   "metadata": {},
   "outputs": [],
   "source": [
    "# base_dir = './crawl_data/reject_decision/Examiner'\n",
    "base_dir = './RejectDecision/'"
   ]
  },
  {
   "cell_type": "code",
   "execution_count": 4,
   "metadata": {},
   "outputs": [
    {
     "data": {
      "text/plain": [
       "100"
      ]
     },
     "execution_count": 4,
     "metadata": {},
     "output_type": "execute_result"
    }
   ],
   "source": [
    "candidate_pkl = os.listdir(base_dir)[:100]\n",
    "len(candidate_pkl)"
   ]
  },
  {
   "cell_type": "code",
   "execution_count": 4,
   "metadata": {},
   "outputs": [],
   "source": [
    "candidate_pkl = [i for i in candidate_pkl if i != '.ipynb_checkpoints']"
   ]
  },
  {
   "cell_type": "code",
   "execution_count": 5,
   "metadata": {},
   "outputs": [],
   "source": [
    "not_exist_str = '''<?xml version='1.0' encoding='UTF-8'?><soapenv:Envelope xmlns:soapenv=\"http://schemas.xmlsoap.org/soap/envelope/\"><soapenv:Body><ns:rejectDecisionResponse xmlns:ns=\"http://plus.kipris.or.kr/xsd\" xmlns:ax266=\"http://intermediateDocument.bean.services.webservice.plus.kipris.or.kr/xsd\"></ns:rejectDecisionResponse></soapenv:Body></soapenv:Envelope>'''"
   ]
  },
  {
   "cell_type": "code",
   "execution_count": 6,
   "metadata": {},
   "outputs": [],
   "source": [
    "count = 0 \n",
    "candidate_list = []\n",
    "for c in candidate_pkl:\n",
    "    with open(os.path.join(base_dir, c), 'rb') as f:\n",
    "        data = pickle.load(f)\n",
    "    candidate_list.append(data)\n",
    "    if data == not_exist_str:\n",
    "        print('-------------------------------------------------- {} --------------------------------------------------'.format(c.split('.')[0]))\n",
    "        print(data)\n"
   ]
  },
  {
   "cell_type": "code",
   "execution_count": 7,
   "metadata": {},
   "outputs": [
    {
     "name": "stdout",
     "output_type": "stream",
     "text": [
      "100 100\n"
     ]
    }
   ],
   "source": [
    "print(len(candidate_list), len(set(candidate_list)))"
   ]
  },
  {
   "cell_type": "code",
   "execution_count": 1,
   "metadata": {},
   "outputs": [
    {
     "ename": "NameError",
     "evalue": "name 'candidate_list' is not defined",
     "output_type": "error",
     "traceback": [
      "\u001b[1;31m---------------------------------------------------------------------------\u001b[0m",
      "\u001b[1;31mNameError\u001b[0m                                 Traceback (most recent call last)",
      "\u001b[1;32m<ipython-input-1-6a2fd7653622>\u001b[0m in \u001b[0;36m<module>\u001b[1;34m\u001b[0m\n\u001b[1;32m----> 1\u001b[1;33m \u001b[0mcandidate_list\u001b[0m\u001b[1;33m[\u001b[0m\u001b[1;36m1\u001b[0m\u001b[1;33m]\u001b[0m\u001b[1;33m\u001b[0m\u001b[1;33m\u001b[0m\u001b[0m\n\u001b[0m",
      "\u001b[1;31mNameError\u001b[0m: name 'candidate_list' is not defined"
     ]
    }
   ],
   "source": [
    "candidate_list[1]"
   ]
  },
  {
   "cell_type": "code",
   "execution_count": 9,
   "metadata": {},
   "outputs": [],
   "source": [
    "import xml.etree.ElementTree as elemTree"
   ]
  },
  {
   "cell_type": "code",
   "execution_count": 11,
   "metadata": {},
   "outputs": [],
   "source": [
    "tree = elemTree.fromstring(candidate_list[0])"
   ]
  },
  {
   "cell_type": "code",
   "execution_count": 12,
   "metadata": {},
   "outputs": [],
   "source": [
    "ns = {\"soapenv\" : \"http://schemas.xmlsoap.org/soap/envelope/\",\n",
    "     \"ax264\":\"http://intermediateDocument.bean.services.webservice.plus.kipris.or.kr/xsd\",\n",
    "     \"ns\" : \"http://plus.kipris.or.kr/xsd\"}"
   ]
  },
  {
   "cell_type": "code",
   "execution_count": 13,
   "metadata": {},
   "outputs": [
    {
     "data": {
      "text/plain": [
       "'<p>본원서비스표는 지정 서비스업 전부와 관련하여 볼 때 타인의 선등록 서비스표 제410053727[전취덕 전취덕 QUANJUDEROASTDUCK]호와 칭호, 관념, 외관이 동일 또는 유사한 서비스표이므로 상표법 제7조 제1항 제7호에 해당하여 서비스표등록을 받을 수 없습니다. 끝.</p>'"
      ]
     },
     "execution_count": 13,
     "metadata": {},
     "output_type": "execute_result"
    }
   ],
   "source": [
    "text = tree.findall(\"./soapenv:Body/ns:rejectDecisionResponse/ns:return/ax264:rejectionDetail1\", ns)[0].text\n",
    "text"
   ]
  },
  {
   "cell_type": "code",
   "execution_count": 14,
   "metadata": {},
   "outputs": [],
   "source": [
    "texts = []\n",
    "for candidate in candidate_list:\n",
    "    tree = elemTree.fromstring(candidate)\n",
    "    content = tree.findall(\"./soapenv:Body/ns:rejectDecisionResponse/ns:return/ax264:rejectionDetail1\", ns)\n",
    "    if len(content) > 0:\n",
    "        texts.append(content[0].text)"
   ]
  },
  {
   "cell_type": "code",
   "execution_count": 15,
   "metadata": {},
   "outputs": [
    {
     "data": {
      "text/plain": [
       "['<p>본원서비스표는 지정 서비스업 전부와 관련하여 볼 때 타인의 선등록 서비스표 제410053727[전취덕 전취덕 QUANJUDEROASTDUCK]호와 칭호, 관념, 외관이 동일 또는 유사한 서비스표이므로 상표법 제7조 제1항 제7호에 해당하여 서비스표등록을 받을 수 없습니다. 끝.</p>',\n",
       " '참고 : 상표견본이미지<emi file=\"PIC1479420792.JPG\" width=\"630\" height=\"630\"/> (※ 본 통지서의 상표견본 이미지는 출원서에 첨부된 상표견본과 다소 상이할 수 있음을 참고하시기 바랍니다.) [ 거절이유 ] 상표법 제8조 제1항 이 출원서비스표는 아래와 같이 타인의 선출원서비스표와 표장 및 지정서비스업이 동일 또는 유사한 서비스표이므로 등록을 받을 수 없습니다. 다만, 선출원서비스표의 지정서비스업과 동일 또는 유사한 아래 지정서비스업을 삭제하는 보정을 하거나 상표법 제18조의 규정에 따라 분할하여 출원하는 경우에는 그러하지 아니합니다. 또한, 타인의 선출원서비스표가 거절결정, 출원취하, 출원포기 또는 무효가 확정된 경우에도 그러하지 아니합니다.○타인의 선출원서비스표 제4120130016361호(래미안 럭스코트), 제4120130016325호(래미안 라플로), 제4120130014312호(래미안코틀리 Raemian Courtly), 제4120130014033호( Raemian Courtly)의 요부인 “래미안”, “Raemian” 와 칭호 등이 동일 유사합니다.○관련 지정서비스업 - [유사군 코드 S040101] 건물기초공사업, 건물리모델링업, 건물보수업, 건설 및 건축장비 임대정보제공업, 건설 및 건축장비임대업, 건축감리업, 건축공사상담업, 건축물건설업, 건축정보제공업, 실내장식업, 아파트건축업, 아파트리모델링업, 전문공사업, 종합건설공사업, 주택건축업, 택지공사업, 토목공사업, 통신공사업.',\n",
       " '참고 : 상표견본이미지<emi file=\"PIC1824303298.JPG\" width=\"600\" height=\"210\"/> (※ 본 통지서의 상표견본 이미지는 출원서에 첨부된 상표견본과 다소 상이할 수 있음을 참고하시기 바랍니다.) [ 거절이유 1 ] 상표법 제6조 제1항 제3호이 출원상표“<emi file=\"PIC1824303308.bmp\" width=\"600\" height=\"210\"/>”은 영문 ‘FLAPJACK’의 한글음역으로 지정상품과 관련하여‘귀리, 버터, 설탕, 시럽으로 만든 두꺼운 비스킷’또는‘두툼한 팬케이크’로 직감되어 상품의 용도, 효능 등에 해당되므로 이는 상표법 제6조 제1항 제3호에 해당되어 상표등록을 받으실 수 없습니다. 다만, 아래 제시된 지정상품을 삭제하는 보정을 하거나 상표법 제18조의 규정에 따라 분할하여 출원하는 등의 적법한 조치를 하는 경우에는 그러하지 아니합니다.○ 지정상품 - [유사군 코드 G0206] 가공한 곡물, 샌드위치, 햄버거(샌드위치), [유사군 코드 G0301] 빵, 햄버거용 빵. [ 거절이유 2 ] 상표법 제7조 제1항 제11호 이 출원상표“<emi file=\"PIC1824303312.bmp\" width=\"600\" height=\"210\"/>”은 영문 ‘FLAPJACK’의 한글음역으로 그 지정상품과 관련하여‘귀리, 버터, 설탕, 시럽으로 만든 두꺼운 비스킷’또는‘두툼한 팬케이크’의 뜻이 있어 상품의 품질오인, 혼동의 우려 있으므로 이는 상표법 제7조 제1항 제11호에 해당되어 상표등록을 받으실 수 없습니다.○ 지정상품 : 전부. 끝.',\n",
       " \"<p>본원상표는 지정 상품 '나선반송기계기구'와 관련하여 볼 때 타인의 선등록 상표 제400218593호(리치 RICH), 제400447835호(STONE)와 1요부의 칭호, 관념이 동일 또는 유사한 상표이므로 상표법 제7조 제1항 제7호에 해당하여 상표등록을 받을 수 없습니다. 다만, 상기 지적된 상품을 삭제하거나 분할하여 출원하는 등의 적법한 조치를 하면 재심사 후 다른 거절이유가 없는 한 본원상표는 등록을 받을 수 있습니다. 끝.</p>\",\n",
       " '참고 : 상표견본이미지<emi file=\"PIC1551034598.jpg\" width=\"497\" height=\"504\"/> (※ 본 통지서의 상표견본 이미지는 출원서에 첨부된 상표견본과 다소 상이할 수 있음을 참고하시기 바랍니다.) 이 출원상표는 그 지정상품 중 “수삼”은 불명확하므로 상표법 제10조에 해당하여 상표등록을 받을 수 없습니다. 다만, 지적된 상품명을 삭제하거나 상표법 시행규칙 [별표1]의 상품류구분표에 예시된 상품명칭을 참고하여 명확한 지정상품명으로 수정하면 다른 거절이유가 없는 한 이 출원상표는 등록받을 수 있습니다. ※ 29류의 수삼은 ‘가공한 수삼’ 또는 ‘냉동수삼, 보존처리한 수삼’으로 하여야 함 / ‘수삼(신선한 것)’으로 등록받고자 한다면 31류로 출원하여야 함. 끝.',\n",
       " '참고 : 상표견본이미지<emi file=\"PIC1765302179.JPG\" width=\"945\" height=\"945\"/> (※ 본 통지서의 상표견본 이미지는 출원서에 첨부된 상표견본과 다소 상이할 수 있음을 참고하시기 바랍니다.) [ 거절이유 ] 상표법 제7조 제1항 제7호 이 출원상표는 아래와 같이 타인의 선등록상표와 표장 및 지정상품이 동일 또는 유사한 상표이므로 등록을 받을 수 없습니다. 다만, 선등록상표의 지정상품과 동일 또는 유사한 아래 지정상품을 삭제하는 보정을 하거나 상표법 제18조의 규정에 따라 분할하여 출원하는 경우에는 그러하지 아니합니다.1. 타인의 선등록상표 제400370712호(<emi file=\"PIC1765302181.bmp\" width=\"342\" height=\"147\"/>)와 도형부분의 외관이 동일·유사함○ 관련 지정상품 - [유사군 코드 G120401] 화장용구2. 타인의 선등록상표 제400375282호(<emi file=\"PIC1765302183.bmp\" width=\"342\" height=\"147\"/>)와 도형부분의 외관이 동일·유사함○ 관련 지정상품 - [유사군 코드 G1302] 칫솔3. 타인의 선등록상표 제400379317호(<emi file=\"PIC1765302185.bmp\" width=\"342\" height=\"147\"/>)와 도형부분의 외관이 동일·유사함○ 관련 지정상품 - [유사군 코드 G1401] 먼지털이, 세탁 및 청소용구(전기식은 제외) - [유사군 코드 G1801] 비전기식 프라이팬 - [유사군 코드 G1802] 식탁용 식기 - [유사군 코드 G1803] 양념병 - [유사군 코드 G1804] 보온병4. 타인의 선등록상표 제400379319호(<emi file=\"PIC1765302187.bmp\" width=\"342\" height=\"147\"/>)와 도형부분의 외관이 동일·유사함○ 관련 지정상품 - [유사군 코드 G5203] 자기제/세라믹제/토기제 또는 유리제 조각품5. 타인의 선등록상표 제400382258호(<emi file=\"PIC1765302189.bmp\" width=\"342\" height=\"147\"/>)와 도형부분의 외관이 동일·유사함○ 관련 지정상품 - [유사군 코드 G390602] 전기칫솔6. 타인의 선등록상표 제400386053호(<emi file=\"PIC1765302191.bmp\" width=\"342\" height=\"147\"/>)와 도형부분의 외관이 동일·유사함○ 관련 지정상품 - [유사군 코드 G1802] 식탁용 식기7. 타인의 선등록상표 제400387801호(<emi file=\"PIC1765302193.bmp\" width=\"342\" height=\"147\"/>)와 도형부분의 외관이 동일·유사함○ 관련 지정상품 - [유사군 코드 G2603] 꽃병, 도자기제 장식품8. 타인의 선등록상표 제400391681호(<emi file=\"PIC1765302195.bmp\" width=\"342\" height=\"147\"/>)와 도형부분의 외관이 동일·유사함○ 관련 지정상품 - [유사군 코드 G1401] 먼지털이, 세탁 및 청소용구(전기식은 제외) [ 거절이유 ] 상표법 제7조 제1항 제8호 이 출원상표는 아래와 같이 권리가 소멸한 날로부터 1년을 경과하지 아니한 타인의 선등록상표와 표장 및 지정상품이 동일 또는 유사한 상표이므로 등록을 받을 수 없습니다. 다만, 선등록상표의 지정상품과 동일 또는 유사한 아래 지정상품을 삭제하는 보정을 하거나 상표법 제18조의 규정에 따라 분할하여 출원하는 경우에는 그러하지 아니합니다.1. 타인의 선등록상표 제400408800호(<emi file=\"PIC1765302197.bmp\" width=\"211\" height=\"109\"/>)와 주요부의 외관, 칭호, 관념이 동일·유사함○ 관련 지정상품 - [유사군 코드 G1302] 칫솔2. 타인의 선등록상표 제400401597호(<emi file=\"PIC1765302199.bmp\" width=\"211\" height=\"109\"/>)와 주요부의 외관, 칭호, 관념이 동일·유사함○ 관련 지정상품 - [유사군 코드 G5203] 자기제/세라믹제/토기제 또는 유리제 조각품3. 타인의 선등록상표 제400400660호(<emi file=\"PIC1765302201.bmp\" width=\"211\" height=\"109\"/>)와 주요부의 외관, 칭호, 관념이 동일·유사함○ 관련 지정상품 - [유사군 코드 G120401] 화장용구4. 타인의 선등록상표 제400395130호(<emi file=\"PIC1765302203.bmp\" width=\"211\" height=\"109\"/>)와 주요부의 외관, 칭호, 관념이 동일·유사함○ 관련 지정상품 - [유사군 코드 G1701] 비건축용 발광유리5. 타인의 선등록상표 제400391683호(<emi file=\"PIC1765302205.bmp\" width=\"166\" height=\"93\"/>)와 주요부의 외관, 칭호, 관념이 동일·유사함○ 관련 지정상품 - [유사군 코드 G1401] 먼지털이, 세탁 및 청소용구(전기식은 제외)6. 타인의 선등록상표 제400387805호(<emi file=\"PIC1765302207.bmp\" width=\"211\" height=\"109\"/>)와 주요부의 외관, 칭호, 관념이 동일·유사함○ 관련 지정상품 - [유사군 코드 G2603] 꽃병, 도자기제 장식품7. 타인의 선등록상표 제400379320호(<emi file=\"PIC1765302209.bmp\" width=\"204\" height=\"116\"/>)와 주요부위 외관, 칭호, 관념이 동일·유사함○ 관련 지정상품 - [유사군 코드 G1401] 먼지털이, 세탁 및 청소용구(전기식은 제외) - [유사군 코드 G1801] 비전기식 프라이팬 - [유사군 코드 G1802] 식탁용 식기 - [유사군 코드 G1803] 양념병 - [유사군 코드 G1804] 보온병. 끝.',\n",
       " '참고 : 상표견본이미지<emi file=\"PIC1928027829.JPG\" width=\"400\" height=\"400\"/> (※ 본 통지서의 상표견본 이미지는 출원서에 첨부된 상표견본과 다소 상이할 수 있음을 참고하시기 바랍니다.)  이 출원상표는 한글 5자가 띄어쓰기 없이 결합되어 있으나, 구성요소중“닥터”는 흔히 쓰는 명칭으로 식별력이 없거나 미약하므로, 식별력이 강한“에클린”만으로 약칭될 개연성이 높은 표장인 바, 이럴 경우[ 거절이유 1 ] 상표법 제8조 제1항 이 출원상표는 아래와 같이 타인의 선출원상표와 표장 및 지정상품이 동일 또는 유사한 상표이므로 등록을 받을 수 없습니다. 다만, 선출원상표의 지정상품과 동일 또는 유사한 아래 지정상품을 삭제하는 보정을 하거나 상표법 제18조의 규정에 따라 분할하여 출원하는 경우에는 그러하지 아니합니다. 또한, 타인의 선출원상표가 거절결정, 출원취하, 출원포기 또는 무효가 확정된 경우에도 그러하지 아니합니다.○ 타인의 선출원 상표 제40-2014-0070213호(<emi file=\"PIC1928027835.bmp\" width=\"244\" height=\"63\"/>)와 그 칭호가 동일 또는 유사함. ○ 지정상품 [유사군 코드 G1803] 마른 행주, 일회용 행주, 행주, 행주용 직물제 물티슈, [ 거절이유 2 ] 상표법 제7조 제1항 제7호 이 출원상표는 아래와 같이 타인의 선등록상표와 표장 및 지정상품이 동일 또는 유사한 상표이므로 등록을 받을 수 없습니다. 다만, 선등록상표의 지정상품과 동일 또는 유사한 아래 지정상품을 삭제하는 보정을 하거나 상표법 제18조의 규정에 따라 분할하여 출원하는 경우에는 그러하지 아니합니다.○ 타인의 선등록 상표 제40-0382726호(<emi file=\"PIC1928027841.bmp\" width=\"284\" height=\"59\"/>)와 칭호가 유사함○ 지정상품 : [유사군 코드 G4904] 부직포(不織布). 끝.',\n",
       " '참고 : 상표견본이미지<emi file=\"PIC1279109205.JPG\" width=\"2550\" height=\"584\"/> (※ 본 통지서의 상표견본 이미지는 출원서에 첨부된 상표견본과 다소 상이할 수 있음을 참고하시기 바랍니다.)  [ 거절이유: 1] 상표법 제6조 제1항 제3호 이 출원상표·서비스표“달랏아티초코”는 “DALATARTICHOKE” 의 한글음역으로 “DALATA”는“베트남 람동주(州)의 주도로 토양이 기름져 채소·과일·차등 ”을 생산하는 지역이며 “ARTICHOKE”도“엉겅퀴과 꽃식물로 영양가가 많아 약용으로도 쓰이는”식물을 뜻하는 것으로 “달랏아티초코”전체적으로도 새로운 관념을 형성하는 것도 아니므로 지정상품의 현저한 지리적 명칭, 원재료, 품질 등을 보통으로 표시하는 기술적 표장으로 표시한 상표·서비스표이므로 등록을 받을 수 없습니다. ○ 지정상품(서비스업):전부] [ 거절이유:2 ] 상표법 제7조 제1항 제11호 이 출원상표·서비스표 중“아티초코(ARTICHOKE)”는 꽃봉오리의 육질이 연하고 맛이 담백할 뿐만 아니라 많은 영양가 단백질, 비타민 A,C,칼슘, 철, 인, 당류, 이누린 등이 함유되어 있어서 약용으로도 쓰이는 것으로 알려져 있어 아래 지정상품(서비스업)에 사용할 경우 일반수요자로 하여금 상품(서비스업)의 품질을 오인·혼동케 할 우려가 있으므로 등록을 받을 수 없습니다. ○ 지정상품(서비스업):[전부] [ 거절이유: 3 ] 상표법 제8조 제1항 이 출원상표·서비스표는 아래와 같이 타인의 선출원상표·서비스표와 표장 및 상품(서비스업)이 동일 또는 유사한 상표·서비스표이므로 등록을 받을 수 없습니다. 다만, 선출원상표의 지정상품과 동일 또는 유사한 아래 지정상품을 삭제하는 보정을 하거나 상표법 제18조의 규정에 따라 분할하여 출원하는 경우에는 그러하지 아니합니다. 니합니다. ○ 타인의 선출원상표 “제400955677 4020110067234호 DALAT ”와 본원상표,서비스표와  1요부의 칭호가 동일유사○ 지정상품(서비스업): [유사군 코드 G0501] 구기자차, 녹차, 대용차, 라임차, 맥엽차, 보리차, 비약제용 우려낸 즙, 샐비어잎차, 석창포차, 아이스티, 오가피차, 오룡차, 원기차, 인삼차, 차(茶), 차의 잎, 허브차, 홍차, [유사군 코드 G0503] 차를 주성분으로 하는 음료, 차음료.  ※ 참고  <emi file=\"PIC1280212369.bmp\" width=\"588\" height=\"625\"/>. 끝.',\n",
       " '<p>본원상표는 타인의 선출원 제98-27640호(세리아)와 칭호가 유사하므로 상표법 제8조에 해당하여 상표등록을 받을 수 없습니다. 다만, 선출원상표가 거절사정(출원취하, 출원포기)이 확정된 경우는 그러하지 아니합니다.</p>',\n",
       " '<p>이 출원상표는 &quot;홍삼성분을 함유한 곶감&quot;의 뜻으로서 지정상품인 「홍삼추출액을 첨가한 건시(乾枾)」에 사용하는 경우 그 상품의 품질, 원재료 등을 보통으로 사용하는 방법으로 표시한 상표이므로 상표법 제6조 제1항 제3호에 해당하여 상표등록을 받을 수 없습니다.</p>']"
      ]
     },
     "execution_count": 15,
     "metadata": {},
     "output_type": "execute_result"
    }
   ],
   "source": [
    "texts[:10]"
   ]
  },
  {
   "cell_type": "code",
   "execution_count": 11,
   "metadata": {},
   "outputs": [
    {
     "data": {
      "text/plain": [
       "'<?xml version=\\'1.0\\' encoding=\\'UTF-8\\'?><soapenv:Envelope xmlns:soapenv=\"http://schemas.xmlsoap.org/soap/envelope/\"><soapenv:Body><soapenv:Fault xmlns:axis2ns244=\"http://schemas.xmlsoap.org/soap/envelope/\"><faultcode>axis2ns244:1</faultcode><faultstring>Invalid API right(Address: http://plus.kipris.or.kr:80/kiprisplusws/services/IntermediateDocumentOPService) - Id:[kotec], rightClassRslt:[29]</faultstring><detail></detail></soapenv:Fault></soapenv:Body></soapenv:Envelope>'"
      ]
     },
     "execution_count": 11,
     "metadata": {},
     "output_type": "execute_result"
    }
   ],
   "source": [
    "candidate_list[0]"
   ]
  },
  {
   "cell_type": "code",
   "execution_count": null,
   "metadata": {},
   "outputs": [],
   "source": []
  }
 ],
 "metadata": {
  "kernelspec": {
   "display_name": "Python 3",
   "language": "python",
   "name": "python3"
  },
  "language_info": {
   "codemirror_mode": {
    "name": "ipython",
    "version": 3
   },
   "file_extension": ".py",
   "mimetype": "text/x-python",
   "name": "python",
   "nbconvert_exporter": "python",
   "pygments_lexer": "ipython3",
   "version": "3.7.4"
  }
 },
 "nbformat": 4,
 "nbformat_minor": 2
}
