{
 "cells": [
  {
   "cell_type": "code",
   "execution_count": null,
   "metadata": {},
   "outputs": [],
   "source": [
    "from selenium import webdriver\n",
    "from selenium.webdriver.common.keys import Keys\n",
    "from selenium.webdriver.support.ui import WebDriverWait\n",
    "from selenium.webdriver.support import expected_conditions as EC\n",
    "from selenium.webdriver.common.by import By\n",
    "import pickle\n",
    "from bs4 import BeautifulSoup\n",
    "import time"
   ]
  },
  {
   "cell_type": "markdown",
   "metadata": {},
   "source": [
    "### URL 이용 프레임 소스 다운로드"
   ]
  },
  {
   "cell_type": "code",
   "execution_count": null,
   "metadata": {},
   "outputs": [],
   "source": [
    "chrome_driver = '/Users/woon/Desktop/chromedriver'\n",
    "driver = webdriver.Chrome(chrome_driver)\n",
    "url = 'http://kipris.or.kr/kdtj/remocon/frame.jsp?kind=2&start=DR&userid=&menuKind=9&rtField&rights=TM'\n",
    "\n",
    "driver.implicitly_wait(5)\n",
    "driver.get(url)\n",
    "\n",
    "driver.switch_to.frame(driver.find_element_by_name(\"right\"))\n",
    "src = driver.page_source\n",
    "soup = BeautifulSoup(src)\n",
    "\n",
    "driver.close()\n",
    "soup"
   ]
  },
  {
   "cell_type": "markdown",
   "metadata": {},
   "source": [
    "### 대분류 딕트 pickle 파일 생성"
   ]
  },
  {
   "cell_type": "code",
   "execution_count": null,
   "metadata": {},
   "outputs": [],
   "source": [
    "l_category = []\n",
    "for i in range(len(soup.select('a'))):\n",
    "    l_category.append(soup.select('a')[i].get_text())\n"
   ]
  },
  {
   "cell_type": "code",
   "execution_count": null,
   "metadata": {},
   "outputs": [],
   "source": [
    "# del l_category[0:2]\n",
    "del l_category[-1]\n",
    "del l_category[-1]"
   ]
  },
  {
   "cell_type": "code",
   "execution_count": null,
   "metadata": {},
   "outputs": [],
   "source": [
    "l_category\n",
    "large_number = []\n",
    "large_text = []\n",
    "for i in range(len(l_category)):\n",
    "    if(i%2==1):\n",
    "        large_text.append(l_category[i])\n",
    "    else:\n",
    "        large_number.append(l_category[i])"
   ]
  },
  {
   "cell_type": "code",
   "execution_count": null,
   "metadata": {},
   "outputs": [],
   "source": [
    "large_zip = zip(large_number,large_text)\n",
    "main_category = dict(large_zip)"
   ]
  },
  {
   "cell_type": "code",
   "execution_count": null,
   "metadata": {},
   "outputs": [],
   "source": [
    "with open('main_category.pickle','wb') as f:\n",
    "    pickle.dump(main_category, f, pickle.HIGHEST_PROTOCOL)"
   ]
  },
  {
   "cell_type": "markdown",
   "metadata": {},
   "source": [
    "### 중분류 딕트 pickle 파일 생성"
   ]
  },
  {
   "cell_type": "code",
   "execution_count": null,
   "metadata": {},
   "outputs": [],
   "source": [
    "medium_value = []\n",
    "for i in range(len(soup.find_all('td', colspan='2'))):\n",
    "    medium_value.append(soup.find_all('td', colspan='2')[i].get_text())"
   ]
  },
  {
   "cell_type": "markdown",
   "metadata": {},
   "source": [
    "### 소분류 딕트 pickle 파일 생성"
   ]
  },
  {
   "cell_type": "code",
   "execution_count": null,
   "metadata": {},
   "outputs": [],
   "source": [
    "soup.select('td.txt_left')"
   ]
  },
  {
   "cell_type": "code",
   "execution_count": null,
   "metadata": {},
   "outputs": [],
   "source": [
    "vnumber = []\n",
    "for i in range(len(soup.select('input')[7:])):\n",
    "    vnumber.append(soup.select('input')[i+7]['value'])\n",
    "del vnumber[-1] #마지막 값에 nan 들어있음"
   ]
  },
  {
   "cell_type": "code",
   "execution_count": null,
   "metadata": {},
   "outputs": [],
   "source": [
    "vtext = []\n",
    "for i in range(len(soup.select('td.txt_left'))):\n",
    "    vtext.append(soup.select('td.txt_left')[i].get_text())"
   ]
  },
  {
   "cell_type": "code",
   "execution_count": null,
   "metadata": {},
   "outputs": [],
   "source": [
    "len(vnumber),len(vtext)"
   ]
  },
  {
   "cell_type": "code",
   "execution_count": null,
   "metadata": {},
   "outputs": [],
   "source": [
    "myzip = zip(vnumber,vtext)\n",
    "vienna_dict = dict(myzip)"
   ]
  },
  {
   "cell_type": "code",
   "execution_count": null,
   "metadata": {},
   "outputs": [],
   "source": [
    "with open('vienna_dict.pickle','wb') as f:\n",
    "    pickle.dump(vienna_dict, f, pickle.HIGHEST_PROTOCOL)"
   ]
  }
 ],
 "metadata": {
  "kernelspec": {
   "display_name": "deeplogo",
   "language": "python",
   "name": "deeplogo"
  },
  "language_info": {
   "codemirror_mode": {
    "name": "ipython",
    "version": 3
   },
   "file_extension": ".py",
   "mimetype": "text/x-python",
   "name": "python",
   "nbconvert_exporter": "python",
   "pygments_lexer": "ipython3",
   "version": "3.7.4"
  }
 },
 "nbformat": 4,
 "nbformat_minor": 2
}
